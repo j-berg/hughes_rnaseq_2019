{
 "cells": [
  {
   "cell_type": "markdown",
   "metadata": {},
   "source": [
    "# Hughes, et al\n",
    "The following notebook contains the code necessary for replicating the RNA-seq analysis performed in the publication.   \n",
    "   \n",
    "<b>Read Processing</b>:   \n",
    "<u>Sequencing</u>: Samples were sequenced at the University of Utah High-Throughtput Sequencing Core\n",
    "<u>Bioinformatics</u>: Raw counts files were processed by the University of Utah Bioinformatics Core  \n",
    "<u>Data</u>: Raw data contained within this repository is the property of the Adam Hughes lab at the University of Utah"
   ]
  },
  {
   "cell_type": "markdown",
   "metadata": {},
   "source": [
    "### File path   \n",
    "Users of this notebook should modify the path to specify the absolute path where this repository is downloaded   \n",
    "path string must end with '/'"
   ]
  },
  {
   "cell_type": "code",
   "execution_count": 10,
   "metadata": {},
   "outputs": [],
   "source": [
    "import os \n",
    "__path__  =  os.path.dirname(os.path.realpath('./')) + '/hughes_rnaseq_2019/'"
   ]
  },
  {
   "cell_type": "markdown",
   "metadata": {},
   "source": [
    "### Import dependencies and file path    \n",
    "<b><a href='https://doi.org/10.5281/zenodo.3226973'>XPRESSplot</a></b> is part of the <b><a href='https://github.com/XPRESSyourself'>XPRESSyourself</a></b> bioinformatics suite under development by Jordan A. Berg   "
   ]
  },
  {
   "cell_type": "code",
   "execution_count": 11,
   "metadata": {},
   "outputs": [],
   "source": [
    "%%capture \n",
    "# Hide matplotlib backend error\n",
    "\n",
    "import pandas as pd \n",
    "import numpy as np\n",
    "from sklearn import preprocessing\n",
    "import matplotlib\n",
    "import matplotlib.pyplot as plt\n",
    "\n",
    "%matplotlib inline\n",
    "\n",
    "import xpressplot as xp"
   ]
  },
  {
   "cell_type": "markdown",
   "metadata": {},
   "source": [
    "### Import raw read counts files and tabulate, normalize, and rename gene names"
   ]
  },
  {
   "cell_type": "markdown",
   "metadata": {},
   "source": [
    "<b><u>Code Block #1</u></b>\n",
    "1. File names are collected   \n",
    "2. The first file is read into a dataframe with metadata   \n",
    "3. Each subsequent file's count column is added column-wise to the dataframe   \n",
    "4. File names are modified to remove file extension"
   ]
  },
  {
   "cell_type": "code",
   "execution_count": 12,
   "metadata": {},
   "outputs": [],
   "source": [
    "#Get file names\n",
    "file_list = []\n",
    "for subdir, dirs, files in os.walk(str(__path__ + 'raw_data/')):\n",
    "    for d in dirs:\n",
    "        for subdir, dirs, files in os.walk(__path__ + 'raw_data/' + d):\n",
    "            for f in files:\n",
    "                if f.endswith('.counts'):\n",
    "                    file_list.append(__path__ + 'raw_data/' + d + '/' + f)\n",
    "                else:\n",
    "                    pass\n",
    "                \n",
    "#Read in first file                \n",
    "df = pd.read_csv(str(file_list[0]), sep='\\t', comment='#') \n",
    "pos_starter = [0,5,6]\n",
    "colname = df.columns[pos_starter]\n",
    "\n",
    "df = df[colname]\n",
    "\n",
    "#Read in remaining files\n",
    "for f in file_list[1:]:\n",
    "    df_pull = pd.read_csv(str(f), sep='\\t', comment='#')\n",
    "    df = pd.concat([df, df_pull[df_pull.columns[6]]], axis=1)\n",
    "    del df_pull\n",
    "    \n",
    "#Modify sample names in dataframe\n",
    "df.columns = df.columns.str.replace(\".bam\", \"\")"
   ]
  },
  {
   "cell_type": "markdown",
   "metadata": {},
   "source": [
    "<b><u>Code Block #2</u></b>   \n",
    "5. Remove gene lengths from count dataframe\n",
    "6. Create reference dataframe with gene names and gene lengths for downstream use"
   ]
  },
  {
   "cell_type": "code",
   "execution_count": 13,
   "metadata": {},
   "outputs": [],
   "source": [
    "#Create counts table\n",
    "df_counts = df.copy()\n",
    "df_counts = df_counts.drop(labels='Length', axis=1)\n",
    "df_counts = df_counts.set_index('Geneid')\n",
    "del df_counts.index.name\n",
    "\n",
    "#Create gene length reference for downstream RPKM normalization\n",
    "df_length = df.copy()\n",
    "df_length = df_length.loc[:, 'Geneid':'Length']\n",
    "df_length = df_length.set_index('Geneid')\n",
    "del df_length.index.name"
   ]
  },
  {
   "cell_type": "markdown",
   "metadata": {},
   "source": [
    "<b><u>Code Block #3</u></b>   \n",
    "7. Perform RPKM normalization on count dataframe"
   ]
  },
  {
   "cell_type": "code",
   "execution_count": 14,
   "metadata": {},
   "outputs": [
    {
     "name": "stdout",
     "output_type": "stream",
     "text": [
      "Shape before normalization: (6219, 7)\n",
      "Shape after normalization: (6219, 7)\n"
     ]
    }
   ],
   "source": [
    "#Perform RPKM normalization using gene length reference\n",
    "df_rpm = df_counts / (df_counts.sum() / 1e6)\n",
    "df_rpkm = df_rpm.div(df_length.Length, axis=0)\n",
    "df_rpkm = df_rpkm.dropna(axis=0)\n",
    "\n",
    "#Print some info\n",
    "print('Shape before normalization: ' + str(df_counts.shape))\n",
    "print('Shape after normalization: ' + str(df_rpkm.shape))"
   ]
  },
  {
   "cell_type": "markdown",
   "metadata": {},
   "source": [
    "<b><u>Code Block #6</u></b>   \n",
    "11. Import RNAseq metadata needed for later analysis   \n",
    "12. Create a samples color palette "
   ]
  },
  {
   "cell_type": "code",
   "execution_count": 6,
   "metadata": {},
   "outputs": [],
   "source": [
    "#Import file with metadata\n",
    "info = pd.read_csv(__path__ + 'metadata/info_table.csv', header=None)\n",
    "info_original = info\n",
    "\n",
    "#Combine labels\n",
    "info[1] = info[1] + '_time' + info[2].astype(str) + \"_rep\" + info[3]\n",
    "\n",
    "#Keep relevant metadata\n",
    "info_pos = [0,1]\n",
    "info_colname = info.columns[info_pos]\n",
    "info = info[info_colname]\n",
    "\n",
    "#Get list of merged samples names\n",
    "info_original[1] = info_original[2]\n",
    "info_ch = info_original[[0,1]]\n",
    "conA = list(info[1])[0:12]\n",
    "\n",
    "#Create a samples color dictionary for plots\n",
    "colors = {\n",
    "    '0 hr Concanamycin A':'#d0fefe',\n",
    "    '1 hr Concanamycin A':'#a2cffe',\n",
    "    '3 hr Concanamycin A':'#047495',\n",
    "    '6 hr Concanamycin A':'#1f3b4d'}"
   ]
  },
  {
   "cell_type": "markdown",
   "metadata": {},
   "source": [
    "<b><u>Code Block #7</u></b> \n",
    "13. Order columns of dataframe"
   ]
  },
  {
   "cell_type": "code",
   "execution_count": 7,
   "metadata": {},
   "outputs": [],
   "source": [
    "#Specify column order for dataframe\n",
    "col_order = [\n",
    "    '14517X1',\n",
    "     '14517X2',\n",
    "     '14517X3',\n",
    "     '14517X4',\n",
    "     '14517X5',\n",
    "     '14517X6',\n",
    "     '14517X7',\n",
    "     '14517X8',\n",
    "     '14517X9',\n",
    "     '14517X10',\n",
    "     '14517X11',\n",
    "     '14517X12']\n",
    "\n",
    "df_conA_sort = df_rpkm.reindex(col_order, axis=1)"
   ]
  },
  {
   "cell_type": "markdown",
   "metadata": {},
   "source": [
    "<b><u>Code Block #8</u></b> \n",
    "14. Export counts and RPKM tables"
   ]
  },
  {
   "cell_type": "code",
   "execution_count": 8,
   "metadata": {},
   "outputs": [],
   "source": [
    "#Output counts tables for each dataset (no renaming of genes)\n",
    "df_counts.to_csv(__path__ + 'processed_data/conA_counts.csv')\n",
    "df_rpkm.to_csv(__path__ + 'processed_data/conA_rpkm.csv')"
   ]
  },
  {
   "cell_type": "markdown",
   "metadata": {},
   "source": [
    "<b><u>Code Block #9</u></b>   \n",
    "15. Scale genes for heatmaps (mean=0, stdev=1 per gene) "
   ]
  },
  {
   "cell_type": "code",
   "execution_count": 9,
   "metadata": {},
   "outputs": [
    {
     "ename": "ValueError",
     "evalue": "Found array with 0 sample(s) (shape=(0, 12)) while a minimum of 1 is required by the scale function.",
     "output_type": "error",
     "traceback": [
      "\u001b[0;31m---------------------------------------------------------------------------\u001b[0m",
      "\u001b[0;31mValueError\u001b[0m                                Traceback (most recent call last)",
      "\u001b[0;32m<ipython-input-9-4bfc75e0300a>\u001b[0m in \u001b[0;36m<module>\u001b[0;34m\u001b[0m\n\u001b[1;32m      2\u001b[0m \u001b[0mdf_conA_scaled\u001b[0m \u001b[0;34m=\u001b[0m \u001b[0mdf_conA_sort\u001b[0m\u001b[0;34m.\u001b[0m\u001b[0mcopy\u001b[0m\u001b[0;34m(\u001b[0m\u001b[0;34m)\u001b[0m\u001b[0;34m\u001b[0m\u001b[0;34m\u001b[0m\u001b[0m\n\u001b[1;32m      3\u001b[0m \u001b[0mdf_conA_scaled\u001b[0m \u001b[0;34m=\u001b[0m \u001b[0mdf_conA_scaled\u001b[0m\u001b[0;34m.\u001b[0m\u001b[0mdropna\u001b[0m\u001b[0;34m(\u001b[0m\u001b[0;34m)\u001b[0m\u001b[0;34m\u001b[0m\u001b[0;34m\u001b[0m\u001b[0m\n\u001b[0;32m----> 4\u001b[0;31m \u001b[0mdf_conA_scaled\u001b[0m\u001b[0;34m[\u001b[0m\u001b[0mdf_conA_scaled\u001b[0m\u001b[0;34m.\u001b[0m\u001b[0mcolumns\u001b[0m\u001b[0;34m]\u001b[0m \u001b[0;34m=\u001b[0m \u001b[0mpreprocessing\u001b[0m\u001b[0;34m.\u001b[0m\u001b[0mscale\u001b[0m\u001b[0;34m(\u001b[0m\u001b[0mdf_conA_scaled\u001b[0m\u001b[0;34m[\u001b[0m\u001b[0mdf_conA_scaled\u001b[0m\u001b[0;34m.\u001b[0m\u001b[0mcolumns\u001b[0m\u001b[0;34m]\u001b[0m\u001b[0;34m,\u001b[0m \u001b[0maxis\u001b[0m\u001b[0;34m=\u001b[0m\u001b[0;36m1\u001b[0m\u001b[0;34m)\u001b[0m\u001b[0;34m\u001b[0m\u001b[0;34m\u001b[0m\u001b[0m\n\u001b[0m\u001b[1;32m      5\u001b[0m \u001b[0;34m\u001b[0m\u001b[0m\n\u001b[1;32m      6\u001b[0m \u001b[0;31m#Print some info\u001b[0m\u001b[0;34m\u001b[0m\u001b[0;34m\u001b[0m\u001b[0;34m\u001b[0m\u001b[0m\n",
      "\u001b[0;32m~/miniconda3/lib/python3.6/site-packages/scikit_learn-0.21.1-py3.6-macosx-10.7-x86_64.egg/sklearn/preprocessing/data.py\u001b[0m in \u001b[0;36mscale\u001b[0;34m(X, axis, with_mean, with_std, copy)\u001b[0m\n\u001b[1;32m    139\u001b[0m     X = check_array(X, accept_sparse='csc', copy=copy, ensure_2d=False,\n\u001b[1;32m    140\u001b[0m                     \u001b[0mestimator\u001b[0m\u001b[0;34m=\u001b[0m\u001b[0;34m'the scale function'\u001b[0m\u001b[0;34m,\u001b[0m \u001b[0mdtype\u001b[0m\u001b[0;34m=\u001b[0m\u001b[0mFLOAT_DTYPES\u001b[0m\u001b[0;34m,\u001b[0m\u001b[0;34m\u001b[0m\u001b[0;34m\u001b[0m\u001b[0m\n\u001b[0;32m--> 141\u001b[0;31m                     force_all_finite='allow-nan')\n\u001b[0m\u001b[1;32m    142\u001b[0m     \u001b[0;32mif\u001b[0m \u001b[0msparse\u001b[0m\u001b[0;34m.\u001b[0m\u001b[0missparse\u001b[0m\u001b[0;34m(\u001b[0m\u001b[0mX\u001b[0m\u001b[0;34m)\u001b[0m\u001b[0;34m:\u001b[0m\u001b[0;34m\u001b[0m\u001b[0;34m\u001b[0m\u001b[0m\n\u001b[1;32m    143\u001b[0m         \u001b[0;32mif\u001b[0m \u001b[0mwith_mean\u001b[0m\u001b[0;34m:\u001b[0m\u001b[0;34m\u001b[0m\u001b[0;34m\u001b[0m\u001b[0m\n",
      "\u001b[0;32m~/miniconda3/lib/python3.6/site-packages/scikit_learn-0.21.1-py3.6-macosx-10.7-x86_64.egg/sklearn/utils/validation.py\u001b[0m in \u001b[0;36mcheck_array\u001b[0;34m(array, accept_sparse, accept_large_sparse, dtype, order, copy, force_all_finite, ensure_2d, allow_nd, ensure_min_samples, ensure_min_features, warn_on_dtype, estimator)\u001b[0m\n\u001b[1;32m    548\u001b[0m                              \u001b[0;34m\" minimum of %d is required%s.\"\u001b[0m\u001b[0;34m\u001b[0m\u001b[0;34m\u001b[0m\u001b[0m\n\u001b[1;32m    549\u001b[0m                              % (n_samples, array.shape, ensure_min_samples,\n\u001b[0;32m--> 550\u001b[0;31m                                 context))\n\u001b[0m\u001b[1;32m    551\u001b[0m \u001b[0;34m\u001b[0m\u001b[0m\n\u001b[1;32m    552\u001b[0m     \u001b[0;32mif\u001b[0m \u001b[0mensure_min_features\u001b[0m \u001b[0;34m>\u001b[0m \u001b[0;36m0\u001b[0m \u001b[0;32mand\u001b[0m \u001b[0marray\u001b[0m\u001b[0;34m.\u001b[0m\u001b[0mndim\u001b[0m \u001b[0;34m==\u001b[0m \u001b[0;36m2\u001b[0m\u001b[0;34m:\u001b[0m\u001b[0;34m\u001b[0m\u001b[0;34m\u001b[0m\u001b[0m\n",
      "\u001b[0;31mValueError\u001b[0m: Found array with 0 sample(s) (shape=(0, 12)) while a minimum of 1 is required by the scale function."
     ]
    }
   ],
   "source": [
    "#Scale gene rows\n",
    "df_conA_scaled = df_conA_sort.copy()\n",
    "df_conA_scaled = df_conA_scaled.dropna()\n",
    "df_conA_scaled[df_conA_scaled.columns] = preprocessing.scale(df_conA_scaled[df_conA_scaled.columns], axis=1)\n",
    "\n",
    "#Print some info        \n",
    "print('Dataframe size before scaling: ' + str(df_conA_sort.shape))\n",
    "print('Dataframe size after scaling: ' + str(df_conA_scaled.shape))"
   ]
  },
  {
   "cell_type": "markdown",
   "metadata": {},
   "source": [
    "### Oxidative Stress Gene List Heatmap"
   ]
  },
  {
   "cell_type": "code",
   "execution_count": null,
   "metadata": {},
   "outputs": [],
   "source": [
    "#Get genes of interest for heatmap\n",
    "genes = pd.read_csv(__path__ + 'metadata/oxidative_stress_genes.csv')\n",
    "genes_dict = genes[['ORF','Gene name']]\n",
    "genes_dict.columns = [0,1]\n",
    "\n",
    "#Get dataframe of gene cohort of interest\n",
    "df_plot = df_conA_scaled.loc[genes_dict[0].tolist()]\n",
    "print('Size of gene cohort data matrix:' + str(df_plot.shape))\n",
    "\n",
    "#Rename gene ids to common names\n",
    "labels = pd.Series(genes['Gene name'].values,index=genes['ORF']).to_dict()\n",
    "df_plot['name'] = df_plot.index.map(labels.get)\n",
    "df_plot = df_plot.set_index('name')\n",
    "del df_plot.index.name\n",
    "\n",
    "#Plot heatmap\n",
    "xp.heatmap(df_plot, info_ch, sample_palette=colors,\n",
    "    figsize=(2,5),\n",
    "    row_cluster=False, col_cluster=False, font_scale=.7,\n",
    "          cbar_kws={'label': 'z-score'})\n",
    "\n",
    "#Save and show figure\n",
    "plt.savefig(__path__ + 'plots/oxi_stress_heatmap_final.pdf',dpi=1800,bbox_inches='tight')\n",
    "plt.show()"
   ]
  },
  {
   "cell_type": "markdown",
   "metadata": {},
   "source": [
    "### Curated Amino Acid Gene List Heatmap"
   ]
  },
  {
   "cell_type": "code",
   "execution_count": null,
   "metadata": {},
   "outputs": [],
   "source": [
    "#Get genes of interest for heatmap\n",
    "genes = pd.read_csv(__path__ + 'metadata/gene_list_v3.csv')\n",
    "genes_info = genes[['gene_id','function']]\n",
    "genes_info.columns = [0,1]\n",
    "\n",
    "#Get common names for conversion\n",
    "genes_common = genes[['gene_name','function']]\n",
    "genes_common.columns = [0,1]\n",
    "\n",
    "#Get dataframe of gene cohort of interest\n",
    "df_plot = df_conA_scaled.loc[genes_info[0].tolist()]\n",
    "print('Size of gene cohort data matrix:' + str(df_plot.shape))\n",
    "\n",
    "#Rename gene ids to common names\n",
    "labels = pd.Series(genes['gene_name'].values,index=genes['gene_id']).to_dict()\n",
    "df_plot['name'] = df_plot.index.map(labels.get)\n",
    "df_plot = df_plot.set_index('name')\n",
    "del df_plot.index.name\n",
    "\n",
    "#Set dictionary of gene color legend\n",
    "gene_colors = {'Amino acid anabolism':'#1b9e77', 'Amino acid catabolism':'#d95f02', 'Aft1 regulon':'#7570b3'}\n",
    "\n",
    "#Plot heatmap\n",
    "xp.heatmap(df_plot, info_ch, sample_palette=colors, gene_palette=gene_colors,\n",
    "    gene_info=genes_common, figsize=(2,15),\n",
    "    row_cluster=False, col_cluster=False, font_scale=.7,\n",
    "          cbar_kws={'label': 'z-score'})\n",
    "\n",
    "#Format legends\n",
    "import matplotlib\n",
    "import matplotlib.pyplot\n",
    "\n",
    "f = lambda m,c: plt.plot([],[],marker='o', color=c, ls=\"none\")[0]\n",
    "handles = [f(\"s\", list(gene_colors.values())[i]) for i in range(len(list(gene_colors.values())))]\n",
    "first_legend = plt.legend(handles, list(gene_colors.keys()), bbox_to_anchor=(15, 0.25), loc=2, borderaxespad=0., title='Gene Clusters')\n",
    "\n",
    "# Add the legend manually to the current Axes.\n",
    "ax = plt.gca().add_artist(first_legend)\n",
    "\n",
    "g = lambda m,c: plt.plot([],[],marker='o', color=c, ls=\"none\")[0]\n",
    "handles_g = [f(\"s\", list(colors.values())[i]) for i in range(len(list(colors.values())))]\n",
    "plt.legend(handles_g, list(colors.keys()), bbox_to_anchor=(15, .7), loc=2, borderaxespad=0., title='Samples')\n",
    "\n",
    "#Save and show figure\n",
    "plt.savefig(__path__ + 'plots/gene_list_heatmap_final.pdf',dpi=1800,bbox_inches='tight')\n",
    "plt.show()"
   ]
  },
  {
   "cell_type": "markdown",
   "metadata": {},
   "source": [
    "### GO Term Analysis"
   ]
  },
  {
   "cell_type": "markdown",
   "metadata": {},
   "source": [
    "<u><b>Perform statistical analysis of significant genes </b></u>"
   ]
  },
  {
   "cell_type": "code",
   "execution_count": null,
   "metadata": {},
   "outputs": [],
   "source": [
    "print('6v0')\n",
    "xp.volcano(df_rpkm, info, 'Concanamycin_A_time6', 'Concanamycin_A_time0', \n",
    "           alpha=.1, y_threshold=2, x_threshold=[-1,1], \n",
    "           figsize=(5,3), dpi=1200,\n",
    "           save_fig=str(__path__ + 'plots/de/conA_6v0.pdf'),\n",
    "           save_threshold_hits=__path__ + 'plots/go/data/conA_6v0_threshold.csv')\n",
    "print('3v0')\n",
    "xp.volcano(df_rpkm, info, 'Concanamycin_A_time3', 'Concanamycin_A_time0', \n",
    "           alpha=.1, y_threshold=2, x_threshold=[-1,1],\n",
    "           figsize=(5,3), dpi=1200,\n",
    "           save_fig=str(__path__ + 'plots/de/conA_3v0.pdf'),\n",
    "           save_threshold_hits=__path__ + 'plots/go/data/conA_3v0_threshold.csv')\n",
    "print('1v0')\n",
    "xp.volcano(df_rpkm, info, 'Concanamycin_A_time1', 'Concanamycin_A_time0', \n",
    "           alpha=.1, y_threshold=2, x_threshold=[-1,1],\n",
    "           figsize=(5,3), dpi=1200,\n",
    "           save_fig=str(__path__ + 'plots/de/conA_1v0.pdf'),\n",
    "           save_threshold_hits=__path__ + 'plots/go/data/conA_1v0_threshold.csv')"
   ]
  },
  {
   "cell_type": "markdown",
   "metadata": {},
   "source": [
    "<b><u>Plot enriched GO term genes enriched in analysis</u></b>   \n",
    "Took up- and down-regulated lists from each threshold list and ran on geneontology.org   \n",
    "Test Type: Fisher's Exact    \n",
    "Correction: Calculate False Discovery Rate   \n",
    "Only hits with a fold change over expected greater than 1 are displayed in the plots    \n",
    "GO Analysis was performed 18 Apr 2019, using PANTHER Overrepresentation Test v14.1 and Gene Ontology Version 2019-04-17\n",
    "   \n",
    "<u>Citations</u>:   \n",
    "Ashburner et al. Gene ontology: tool for the unification of biology. Nat Genet. May 2000;25(1):25-9.   \n",
    "The Gene Ontology Consortium. The Gene Ontology Resource: 20 years and still GOing strong. Nucleic Acids Res. Jan 2019;47(D1):D330-D338.    \n",
    "Mi H, Huang X, Muruganujan A, Tang H, Mills C, Kang D, Thomas PD. PANTHER version 11: expanded annotation data from Gene Ontology and Reactome pathways, and data analysis tool enhancements. Nucleic Acids Res. Jan 2017;45(D1):D183-D189.   "
   ]
  },
  {
   "cell_type": "markdown",
   "metadata": {},
   "source": [
    "### Oxidation reduction process \n",
    "Upregulated list of genes taken from 6hr vs 0hr"
   ]
  },
  {
   "cell_type": "code",
   "execution_count": null,
   "metadata": {},
   "outputs": [],
   "source": [
    "#Get genes of interest for heatmap\n",
    "ox_re = pd.read_csv('go_update/pantherGeneList_oxidation_reduction_process.txt',\n",
    "                   sep='\\t',\n",
    "                   header = None)\n",
    "\n",
    "ox_re_genes = []\n",
    "\n",
    "for index, row in ox_re.iterrows():\n",
    "    \n",
    "    ox_re_genes.append([row[1], row[2].split(';')[1]])\n",
    "    \n",
    "ox_re_genes = pd.DataFrame(ox_re_genes)\n",
    "\n",
    "L = ['SRX1', 'PRX1', 'GPX2', 'TRX2', 'AHP1']\n",
    "\n",
    "for x in ox_re_genes[1]:\n",
    "    if x in L:\n",
    "        print(x)\n",
    "        \n",
    "#Get dataframe of gene cohort of interest\n",
    "df_plot = df_conA_scaled.loc[ox_re_genes[0].tolist()]\n",
    "print('Size of gene cohort data matrix:' + str(df_plot.shape))\n",
    "\n",
    "#Rename gene ids to common names\n",
    "labels = pd.Series(ox_re_genes[1].values,index=ox_re_genes[0]).to_dict()\n",
    "df_plot['name'] = df_plot.index.map(labels.get)\n",
    "df_plot = df_plot.set_index('name')\n",
    "del df_plot.index.name\n",
    "\n",
    "#Plot heatmap\n",
    "xp.heatmap(df_plot, info_ch, sample_palette=colors,\n",
    "    figsize=(2,15),\n",
    "    row_cluster=False, col_cluster=False, font_scale=.7,\n",
    "          cbar_kws={'label': 'z-score'})\n",
    "\n",
    "#Save and show figure\n",
    "plt.savefig(__path__ + 'go_update/oxidation_reduction_process_hits.pdf',dpi=1800,bbox_inches='tight')\n",
    "plt.show()"
   ]
  },
  {
   "cell_type": "markdown",
   "metadata": {},
   "source": [
    "### Cellular response to oxidative stress\n",
    "Upregulated list of genes taken from 6hr vs 0hr"
   ]
  },
  {
   "cell_type": "code",
   "execution_count": null,
   "metadata": {},
   "outputs": [],
   "source": [
    "#Get genes of interest for heatmap\n",
    "ox_str = pd.read_csv('go_update/pantherGeneList_Cellular response to oxidative stress.txt',\n",
    "                   sep='\\t',\n",
    "                   header = None)\n",
    "\n",
    "ox_str_genes = []\n",
    "\n",
    "for index, row in ox_str.iterrows():\n",
    "    \n",
    "    ox_str_genes.append([row[1], row[2].split(';')[1]])\n",
    "    \n",
    "ox_str_genes = pd.DataFrame(ox_str_genes)\n",
    "\n",
    "L = ['SRX1', 'PRX1', 'GPX2', 'TRX2', 'AHP1']\n",
    "\n",
    "for x in ox_str_genes[1]:\n",
    "    if x in L:\n",
    "        print(x)\n",
    "        \n",
    "#Get dataframe of gene cohort of interest\n",
    "df_plot = df_conA_scaled.loc[ox_str_genes[0].tolist()]\n",
    "print('Size of gene cohort data matrix:' + str(df_plot.shape))\n",
    "\n",
    "#Rename gene ids to common names\n",
    "labels = pd.Series(ox_str_genes[1].values,index=ox_str_genes[0]).to_dict()\n",
    "df_plot['name'] = df_plot.index.map(labels.get)\n",
    "df_plot = df_plot.set_index('name')\n",
    "del df_plot.index.name\n",
    "\n",
    "#Plot heatmap\n",
    "xp.heatmap(df_plot, info_ch, sample_palette=colors,\n",
    "    figsize=(2,5),\n",
    "    row_cluster=False, col_cluster=False, font_scale=.7,\n",
    "          cbar_kws={'label': 'z-score'})\n",
    "\n",
    "#Save and show figure\n",
    "plt.savefig(__path__ + 'go_update/cellular_response_oxidative_stress_hits.pdf',dpi=1800,bbox_inches='tight')\n",
    "plt.show()"
   ]
  },
  {
   "cell_type": "markdown",
   "metadata": {},
   "source": [
    "### Cellular oxidant detoxification\n",
    "Upregulated list of genes taken from 6hr vs 0hr"
   ]
  },
  {
   "cell_type": "code",
   "execution_count": null,
   "metadata": {},
   "outputs": [],
   "source": [
    "#Get genes of interest for heatmap\n",
    "ox_detox = pd.read_csv('go_update/pantherGeneList_Cellular oxidant detoxification.txt',\n",
    "                   sep='\\t',\n",
    "                   header = None)\n",
    "\n",
    "ox_detox_genes = []\n",
    "\n",
    "for index, row in ox_detox.iterrows():\n",
    "    \n",
    "    ox_detox_genes.append([row[1], row[2].split(';')[1]])\n",
    "    \n",
    "ox_detox_genes = pd.DataFrame(ox_detox_genes)\n",
    "\n",
    "L = ['SRX1', 'PRX1', 'GPX2', 'TRX2', 'AHP1']\n",
    "\n",
    "for x in ox_detox_genes[1]:\n",
    "    if x in L:\n",
    "        print(x)\n",
    "        \n",
    "#Get dataframe of gene cohort of interest\n",
    "df_plot = df_conA_scaled.loc[ox_detox_genes[0].tolist()]\n",
    "print('Size of gene cohort data matrix:' + str(df_plot.shape))\n",
    "\n",
    "#Rename gene ids to common names\n",
    "labels = pd.Series(ox_detox_genes[1].values,index=ox_detox_genes[0]).to_dict()\n",
    "df_plot['name'] = df_plot.index.map(labels.get)\n",
    "df_plot = df_plot.set_index('name')\n",
    "del df_plot.index.name\n",
    "\n",
    "#Plot heatmap\n",
    "xp.heatmap(df_plot, info_ch, sample_palette=colors,\n",
    "    figsize=(2,3),\n",
    "    row_cluster=False, col_cluster=False, font_scale=.7,\n",
    "          cbar_kws={'label': 'z-score'})\n",
    "\n",
    "#Save and show figure\n",
    "plt.savefig(__path__ + 'go_update/cellular_oxidant_detox_hits.pdf',dpi=1800,bbox_inches='tight')\n",
    "plt.show()"
   ]
  },
  {
   "cell_type": "code",
   "execution_count": null,
   "metadata": {},
   "outputs": [],
   "source": []
  }
 ],
 "metadata": {
  "kernelspec": {
   "display_name": "Python 3",
   "language": "python",
   "name": "python3"
  },
  "language_info": {
   "codemirror_mode": {
    "name": "ipython",
    "version": 3
   },
   "file_extension": ".py",
   "mimetype": "text/x-python",
   "name": "python",
   "nbconvert_exporter": "python",
   "pygments_lexer": "ipython3",
   "version": "3.6.7"
  }
 },
 "nbformat": 4,
 "nbformat_minor": 2
}
