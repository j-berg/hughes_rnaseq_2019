{
 "cells": [
  {
   "cell_type": "markdown",
   "metadata": {},
   "source": [
    "# Hughes, et al RNA-seq Analysis\n",
    "The following notebook contains the code necessary for replicating the RNA-seq analysis performed in the publication.   \n",
    "   \n",
    "<b>Read Processing</b>:   \n",
    "<u>Sequencing</u>: Samples were sequenced at the University of Utah High-Throughtput Sequencing Core\n",
    "<u>Bioinformatics</u>: Raw counts files were processed by the University of Utah Bioinformatics Core  \n",
    "<u>Data</u>: Raw data contained within this repository is the property of the Adam Hughes lab at the University of Utah"
   ]
  },
  {
   "cell_type": "markdown",
   "metadata": {},
   "source": [
    "## Initialize environment"
   ]
  },
  {
   "cell_type": "markdown",
   "metadata": {},
   "source": [
    "### File path   \n",
    "Users of this notebook should modify the path to specify the absolute path where this repository is downloaded   \n",
    "path string must end with '/'"
   ]
  },
  {
   "cell_type": "code",
   "execution_count": 1,
   "metadata": {},
   "outputs": [],
   "source": [
    "import os \n",
    "__path__  =  os.path.dirname(os.path.realpath('./')) + '/hughes_rnaseq_2019/'"
   ]
  },
  {
   "cell_type": "markdown",
   "metadata": {},
   "source": [
    "### Import dependencies and file path    \n",
    "<b><a href='https://doi.org/10.5281/zenodo.3226973'>XPRESSplot</a></b> is part of the <b><a href='https://github.com/XPRESSyourself'>XPRESSyourself</a></b> bioinformatics suite under development by Jordan A. Berg   "
   ]
  },
  {
   "cell_type": "code",
   "execution_count": 2,
   "metadata": {},
   "outputs": [],
   "source": [
    "%%capture \n",
    "# Hide matplotlib backend error\n",
    "\n",
    "import pandas as pd \n",
    "import numpy as np\n",
    "from sklearn import preprocessing\n",
    "import matplotlib\n",
    "import matplotlib.pyplot as plt\n",
    "\n",
    "%matplotlib inline\n",
    "\n",
    "import xpressplot as xp"
   ]
  },
  {
   "cell_type": "markdown",
   "metadata": {},
   "source": [
    "## Prepare data"
   ]
  },
  {
   "cell_type": "markdown",
   "metadata": {},
   "source": [
    "### Import raw read counts files and tabulate"
   ]
  },
  {
   "cell_type": "markdown",
   "metadata": {},
   "source": [
    "<b><u>Code Block #1</u></b>\n",
    "1. File names are collected   \n",
    "2. The first file is read into a dataframe with metadata   \n",
    "3. Each subsequent file's count column is added column-wise to the dataframe   \n",
    "4. File names are modified to remove file extension"
   ]
  },
  {
   "cell_type": "code",
   "execution_count": 3,
   "metadata": {},
   "outputs": [],
   "source": [
    "#Get file names\n",
    "file_list = []\n",
    "for subdir, dirs, files in os.walk(str(__path__ + 'raw_data/')):\n",
    "    for d in dirs:\n",
    "        for subdir, dirs, files in os.walk(__path__ + 'raw_data/' + d):\n",
    "            for f in files:\n",
    "                if f.endswith('.counts'):\n",
    "                    file_list.append(__path__ + 'raw_data/' + d + '/' + f)\n",
    "                else:\n",
    "                    pass\n",
    "                \n",
    "#Read in first file                \n",
    "df = pd.read_csv(str(file_list[0]), sep='\\t', comment='#') \n",
    "pos_starter = [0,5,6]\n",
    "colname = df.columns[pos_starter]\n",
    "\n",
    "df = df[colname]\n",
    "\n",
    "#Read in remaining files\n",
    "for f in file_list[1:]:\n",
    "    df_pull = pd.read_csv(str(f), sep='\\t', comment='#')\n",
    "    df = pd.concat([df, df_pull[df_pull.columns[6]]], axis=1)\n",
    "    del df_pull\n",
    "    \n",
    "#Modify sample names in dataframe\n",
    "df.columns = df.columns.str.replace(\".bam\", \"\")"
   ]
  },
  {
   "cell_type": "markdown",
   "metadata": {},
   "source": [
    "<b><u>Code Block #2</u></b>   \n",
    "5. Remove gene lengths from count dataframe\n",
    "6. Create reference dataframe with gene names and gene lengths for downstream use"
   ]
  },
  {
   "cell_type": "code",
   "execution_count": 4,
   "metadata": {},
   "outputs": [],
   "source": [
    "#Create counts table\n",
    "df_counts = df.copy()\n",
    "df_counts = df_counts.drop(labels='Length', axis=1)\n",
    "df_counts = df_counts.set_index('Geneid')\n",
    "del df_counts.index.name\n",
    "\n",
    "#Create gene length reference for downstream RPKM normalization\n",
    "df_length = df.copy()\n",
    "df_length = df_length.loc[:, 'Geneid':'Length']\n",
    "df_length = df_length.set_index('Geneid')\n",
    "del df_length.index.name"
   ]
  },
  {
   "cell_type": "markdown",
   "metadata": {},
   "source": [
    "## Normalize, and rename gene names"
   ]
  },
  {
   "cell_type": "markdown",
   "metadata": {},
   "source": [
    "<b><u>Code Block #3</u></b>   \n",
    "7. Perform RPKM normalization on count dataframe"
   ]
  },
  {
   "cell_type": "code",
   "execution_count": 5,
   "metadata": {},
   "outputs": [
    {
     "name": "stdout",
     "output_type": "stream",
     "text": [
      "Shape before normalization: (6219, 12)\n",
      "Shape after normalization: (6219, 12)\n"
     ]
    }
   ],
   "source": [
    "#Perform RPKM normalization using gene length reference\n",
    "df_rpm = df_counts / (df_counts.sum() / 1e6)\n",
    "df_rpkm = df_rpm.div(df_length.Length, axis=0)\n",
    "df_rpkm = df_rpkm.dropna(axis=0)\n",
    "\n",
    "#Print some info\n",
    "print('Shape before normalization: ' + str(df_counts.shape))\n",
    "print('Shape after normalization: ' + str(df_rpkm.shape))"
   ]
  },
  {
   "cell_type": "markdown",
   "metadata": {},
   "source": [
    "<b><u>Code Block #6</u></b>   \n",
    "11. Import RNAseq metadata needed for later analysis   \n",
    "12. Create a samples color palette "
   ]
  },
  {
   "cell_type": "code",
   "execution_count": 6,
   "metadata": {},
   "outputs": [],
   "source": [
    "#Import file with metadata\n",
    "info = pd.read_csv(__path__ + 'metadata/info_table.csv', header=None)\n",
    "info_original = info\n",
    "\n",
    "#Combine labels\n",
    "info[1] = info[1] + '_time' + info[2].astype(str) + \"_rep\" + info[3]\n",
    "\n",
    "#Keep relevant metadata\n",
    "info_pos = [0,1]\n",
    "info_colname = info.columns[info_pos]\n",
    "info = info[info_colname]\n",
    "\n",
    "#Get list of merged samples names\n",
    "info_original[1] = info_original[2]\n",
    "info_ch = info_original[[0,1]]\n",
    "conA = list(info[1])[0:12]\n",
    "\n",
    "#Create a samples color dictionary for plots\n",
    "colors = {\n",
    "    '0 hr Concanamycin A':'#d0fefe',\n",
    "    '1 hr Concanamycin A':'#a2cffe',\n",
    "    '3 hr Concanamycin A':'#047495',\n",
    "    '6 hr Concanamycin A':'#1f3b4d'}"
   ]
  },
  {
   "cell_type": "markdown",
   "metadata": {},
   "source": [
    "<b><u>Code Block #7</u></b> \n",
    "13. Order columns of dataframe"
   ]
  },
  {
   "cell_type": "code",
   "execution_count": 7,
   "metadata": {},
   "outputs": [],
   "source": [
    "#Specify column order for dataframe\n",
    "col_order = [\n",
    "    '14517X1',\n",
    "     '14517X2',\n",
    "     '14517X3',\n",
    "     '14517X4',\n",
    "     '14517X5',\n",
    "     '14517X6',\n",
    "     '14517X7',\n",
    "     '14517X8',\n",
    "     '14517X9',\n",
    "     '14517X10',\n",
    "     '14517X11',\n",
    "     '14517X12']\n",
    "\n",
    "df_conA_sort = df_rpkm.reindex(col_order, axis=1)"
   ]
  },
  {
   "cell_type": "markdown",
   "metadata": {},
   "source": [
    "<b><u>Code Block #8</u></b> \n",
    "14. Export counts and RPKM tables"
   ]
  },
  {
   "cell_type": "code",
   "execution_count": 8,
   "metadata": {},
   "outputs": [],
   "source": [
    "#Output counts tables for each dataset (no renaming of genes)\n",
    "df_counts.to_csv(__path__ + 'processed_data/conA_counts.csv')\n",
    "df_rpkm.to_csv(__path__ + 'processed_data/conA_rpkm.csv')"
   ]
  },
  {
   "cell_type": "markdown",
   "metadata": {},
   "source": [
    "<b><u>Code Block #9</u></b>   \n",
    "15. Scale genes for heatmaps (mean=0, stdev=1 per gene) "
   ]
  },
  {
   "cell_type": "code",
   "execution_count": 9,
   "metadata": {},
   "outputs": [
    {
     "name": "stdout",
     "output_type": "stream",
     "text": [
      "Dataframe size before scaling: (6219, 12)\n",
      "Dataframe size after scaling: (6219, 12)\n"
     ]
    }
   ],
   "source": [
    "#Scale gene rows\n",
    "df_conA_scaled = df_conA_sort.copy()\n",
    "df_conA_scaled = df_conA_scaled.dropna()\n",
    "df_conA_scaled[df_conA_scaled.columns] = preprocessing.scale(df_conA_scaled[df_conA_scaled.columns], axis=1)\n",
    "\n",
    "#Print some info        \n",
    "print('Dataframe size before scaling: ' + str(df_conA_sort.shape))\n",
    "print('Dataframe size after scaling: ' + str(df_conA_scaled.shape))"
   ]
  },
  {
   "cell_type": "markdown",
   "metadata": {},
   "source": [
    "## Figure 4B: GO Term Analysis"
   ]
  },
  {
   "cell_type": "markdown",
   "metadata": {},
   "source": [
    "- Get gene lists passing thresholds to pass to GO term analysis\n",
    "- Fold change threshold >= log<sub>2</sub>(-1) or <= log<sub>2</sub>(1)\n",
    "- P-value threshold >= -log<sub>10</sub>(2)"
   ]
  },
  {
   "cell_type": "code",
   "execution_count": 10,
   "metadata": {},
   "outputs": [
    {
     "name": "stdout",
     "output_type": "stream",
     "text": [
      "6v0\n"
     ]
    },
    {
     "ename": "FileNotFoundError",
     "evalue": "[Errno 2] No such file or directory: '/Users/jordan/Desktop/hughes_rnaseq_2019/plots/de/conA_6v0.pdf'",
     "output_type": "error",
     "traceback": [
      "\u001b[0;31m---------------------------------------------------------------------------\u001b[0m",
      "\u001b[0;31mFileNotFoundError\u001b[0m                         Traceback (most recent call last)",
      "\u001b[0;32m<ipython-input-10-e97d20905567>\u001b[0m in \u001b[0;36m<module>\u001b[0;34m\u001b[0m\n\u001b[1;32m      4\u001b[0m            \u001b[0mfigsize\u001b[0m\u001b[0;34m=\u001b[0m\u001b[0;34m(\u001b[0m\u001b[0;36m5\u001b[0m\u001b[0;34m,\u001b[0m\u001b[0;36m3\u001b[0m\u001b[0;34m)\u001b[0m\u001b[0;34m,\u001b[0m \u001b[0mdpi\u001b[0m\u001b[0;34m=\u001b[0m\u001b[0;36m1200\u001b[0m\u001b[0;34m,\u001b[0m\u001b[0;34m\u001b[0m\u001b[0;34m\u001b[0m\u001b[0m\n\u001b[1;32m      5\u001b[0m            \u001b[0msave_fig\u001b[0m\u001b[0;34m=\u001b[0m\u001b[0mstr\u001b[0m\u001b[0;34m(\u001b[0m\u001b[0m__path__\u001b[0m \u001b[0;34m+\u001b[0m \u001b[0;34m'plots/de/conA_6v0.pdf'\u001b[0m\u001b[0;34m)\u001b[0m\u001b[0;34m,\u001b[0m\u001b[0;34m\u001b[0m\u001b[0;34m\u001b[0m\u001b[0m\n\u001b[0;32m----> 6\u001b[0;31m            save_threshold_hits=__path__ + 'plots/go/data/conA_6v0_threshold.csv')\n\u001b[0m\u001b[1;32m      7\u001b[0m \u001b[0mprint\u001b[0m\u001b[0;34m(\u001b[0m\u001b[0;34m'3v0'\u001b[0m\u001b[0;34m)\u001b[0m\u001b[0;34m\u001b[0m\u001b[0;34m\u001b[0m\u001b[0m\n\u001b[1;32m      8\u001b[0m xp.volcano(df_rpkm, info, 'Concanamycin_A_time3', 'Concanamycin_A_time0', \n",
      "\u001b[0;32m~/scripts/XPRESSyourself/XPRESSplot/xpressplot/analyze.py\u001b[0m in \u001b[0;36mvolcano\u001b[0;34m(data, info, label_comp, label_base, order_legend, title, alpha, highlight_points, highlight_color, highlight_names, alpha_highlights, size, y_threshold, x_threshold, threshold_color, save_threshold_hits, save_threshold_hits_delimiter, label_points, grid, whitegrid, figsize, return_data, plotly_login, save_fig, dpi, bbox_inches)\u001b[0m\n\u001b[1;32m    445\u001b[0m             \u001b[0mlabel_points\u001b[0m \u001b[0;34m=\u001b[0m \u001b[0mlabel_points\u001b[0m\u001b[0;34m,\u001b[0m\u001b[0;34m\u001b[0m\u001b[0;34m\u001b[0m\u001b[0m\n\u001b[1;32m    446\u001b[0m             \u001b[0msize\u001b[0m \u001b[0;34m=\u001b[0m \u001b[0msize\u001b[0m\u001b[0;34m,\u001b[0m\u001b[0;34m\u001b[0m\u001b[0;34m\u001b[0m\u001b[0m\n\u001b[0;32m--> 447\u001b[0;31m             figsize = figsize)\n\u001b[0m\u001b[1;32m    448\u001b[0m \u001b[0;34m\u001b[0m\u001b[0m\n\u001b[1;32m    449\u001b[0m     \u001b[0;32melse\u001b[0m\u001b[0;34m:\u001b[0m\u001b[0;34m\u001b[0m\u001b[0;34m\u001b[0m\u001b[0m\n",
      "\u001b[0;32m~/scripts/XPRESSyourself/XPRESSplot/xpressplot/analyze.py\u001b[0m in \u001b[0;36mscatter\u001b[0;34m(data, info, x, y, palette, add_linreg, order_legend, title, alpha, highlight_points, highlight_color, highlight_names, alpha_highlights, size, y_threshold, x_threshold, threshold_color, label_points, grid, whitegrid, figsize, save_fig, dpi, bbox_inches)\u001b[0m\n\u001b[1;32m    291\u001b[0m \u001b[0;34m\u001b[0m\u001b[0m\n\u001b[1;32m    292\u001b[0m     \u001b[0;32mif\u001b[0m \u001b[0msave_fig\u001b[0m \u001b[0;34m!=\u001b[0m \u001b[0;32mNone\u001b[0m\u001b[0;34m:\u001b[0m\u001b[0;34m\u001b[0m\u001b[0;34m\u001b[0m\u001b[0m\n\u001b[0;32m--> 293\u001b[0;31m         \u001b[0mplt\u001b[0m\u001b[0;34m.\u001b[0m\u001b[0msavefig\u001b[0m\u001b[0;34m(\u001b[0m\u001b[0mstr\u001b[0m\u001b[0;34m(\u001b[0m\u001b[0msave_fig\u001b[0m\u001b[0;34m)\u001b[0m\u001b[0;34m,\u001b[0m \u001b[0mdpi\u001b[0m\u001b[0;34m=\u001b[0m\u001b[0mdpi\u001b[0m\u001b[0;34m,\u001b[0m \u001b[0mbbox_inches\u001b[0m\u001b[0;34m=\u001b[0m\u001b[0mbbox_inches\u001b[0m\u001b[0;34m)\u001b[0m\u001b[0;34m\u001b[0m\u001b[0;34m\u001b[0m\u001b[0m\n\u001b[0m\u001b[1;32m    294\u001b[0m \u001b[0;34m\u001b[0m\u001b[0m\n\u001b[1;32m    295\u001b[0m     \u001b[0mplt\u001b[0m\u001b[0;34m.\u001b[0m\u001b[0mshow\u001b[0m\u001b[0;34m(\u001b[0m\u001b[0;34m)\u001b[0m\u001b[0;34m\u001b[0m\u001b[0;34m\u001b[0m\u001b[0m\n",
      "\u001b[0;32m~/miniconda3/lib/python3.6/site-packages/matplotlib/pyplot.py\u001b[0m in \u001b[0;36msavefig\u001b[0;34m(*args, **kwargs)\u001b[0m\n\u001b[1;32m    693\u001b[0m \u001b[0;32mdef\u001b[0m \u001b[0msavefig\u001b[0m\u001b[0;34m(\u001b[0m\u001b[0;34m*\u001b[0m\u001b[0margs\u001b[0m\u001b[0;34m,\u001b[0m \u001b[0;34m**\u001b[0m\u001b[0mkwargs\u001b[0m\u001b[0;34m)\u001b[0m\u001b[0;34m:\u001b[0m\u001b[0;34m\u001b[0m\u001b[0;34m\u001b[0m\u001b[0m\n\u001b[1;32m    694\u001b[0m     \u001b[0mfig\u001b[0m \u001b[0;34m=\u001b[0m \u001b[0mgcf\u001b[0m\u001b[0;34m(\u001b[0m\u001b[0;34m)\u001b[0m\u001b[0;34m\u001b[0m\u001b[0;34m\u001b[0m\u001b[0m\n\u001b[0;32m--> 695\u001b[0;31m     \u001b[0mres\u001b[0m \u001b[0;34m=\u001b[0m \u001b[0mfig\u001b[0m\u001b[0;34m.\u001b[0m\u001b[0msavefig\u001b[0m\u001b[0;34m(\u001b[0m\u001b[0;34m*\u001b[0m\u001b[0margs\u001b[0m\u001b[0;34m,\u001b[0m \u001b[0;34m**\u001b[0m\u001b[0mkwargs\u001b[0m\u001b[0;34m)\u001b[0m\u001b[0;34m\u001b[0m\u001b[0;34m\u001b[0m\u001b[0m\n\u001b[0m\u001b[1;32m    696\u001b[0m     \u001b[0mfig\u001b[0m\u001b[0;34m.\u001b[0m\u001b[0mcanvas\u001b[0m\u001b[0;34m.\u001b[0m\u001b[0mdraw_idle\u001b[0m\u001b[0;34m(\u001b[0m\u001b[0;34m)\u001b[0m   \u001b[0;31m# need this if 'transparent=True' to reset colors\u001b[0m\u001b[0;34m\u001b[0m\u001b[0;34m\u001b[0m\u001b[0m\n\u001b[1;32m    697\u001b[0m     \u001b[0;32mreturn\u001b[0m \u001b[0mres\u001b[0m\u001b[0;34m\u001b[0m\u001b[0;34m\u001b[0m\u001b[0m\n",
      "\u001b[0;32m~/miniconda3/lib/python3.6/site-packages/matplotlib/figure.py\u001b[0m in \u001b[0;36msavefig\u001b[0;34m(self, fname, **kwargs)\u001b[0m\n\u001b[1;32m   2060\u001b[0m             \u001b[0mself\u001b[0m\u001b[0;34m.\u001b[0m\u001b[0mset_frameon\u001b[0m\u001b[0;34m(\u001b[0m\u001b[0mframeon\u001b[0m\u001b[0;34m)\u001b[0m\u001b[0;34m\u001b[0m\u001b[0;34m\u001b[0m\u001b[0m\n\u001b[1;32m   2061\u001b[0m \u001b[0;34m\u001b[0m\u001b[0m\n\u001b[0;32m-> 2062\u001b[0;31m         \u001b[0mself\u001b[0m\u001b[0;34m.\u001b[0m\u001b[0mcanvas\u001b[0m\u001b[0;34m.\u001b[0m\u001b[0mprint_figure\u001b[0m\u001b[0;34m(\u001b[0m\u001b[0mfname\u001b[0m\u001b[0;34m,\u001b[0m \u001b[0;34m**\u001b[0m\u001b[0mkwargs\u001b[0m\u001b[0;34m)\u001b[0m\u001b[0;34m\u001b[0m\u001b[0;34m\u001b[0m\u001b[0m\n\u001b[0m\u001b[1;32m   2063\u001b[0m \u001b[0;34m\u001b[0m\u001b[0m\n\u001b[1;32m   2064\u001b[0m         \u001b[0;32mif\u001b[0m \u001b[0mframeon\u001b[0m\u001b[0;34m:\u001b[0m\u001b[0;34m\u001b[0m\u001b[0;34m\u001b[0m\u001b[0m\n",
      "\u001b[0;32m~/miniconda3/lib/python3.6/site-packages/matplotlib/backend_bases.py\u001b[0m in \u001b[0;36mprint_figure\u001b[0;34m(self, filename, dpi, facecolor, edgecolor, orientation, format, **kwargs)\u001b[0m\n\u001b[1;32m   2261\u001b[0m                 \u001b[0morientation\u001b[0m\u001b[0;34m=\u001b[0m\u001b[0morientation\u001b[0m\u001b[0;34m,\u001b[0m\u001b[0;34m\u001b[0m\u001b[0;34m\u001b[0m\u001b[0m\n\u001b[1;32m   2262\u001b[0m                 \u001b[0mbbox_inches_restore\u001b[0m\u001b[0;34m=\u001b[0m\u001b[0m_bbox_inches_restore\u001b[0m\u001b[0;34m,\u001b[0m\u001b[0;34m\u001b[0m\u001b[0;34m\u001b[0m\u001b[0m\n\u001b[0;32m-> 2263\u001b[0;31m                 **kwargs)\n\u001b[0m\u001b[1;32m   2264\u001b[0m         \u001b[0;32mfinally\u001b[0m\u001b[0;34m:\u001b[0m\u001b[0;34m\u001b[0m\u001b[0;34m\u001b[0m\u001b[0m\n\u001b[1;32m   2265\u001b[0m             \u001b[0;32mif\u001b[0m \u001b[0mbbox_inches\u001b[0m \u001b[0;32mand\u001b[0m \u001b[0mrestore_bbox\u001b[0m\u001b[0;34m:\u001b[0m\u001b[0;34m\u001b[0m\u001b[0;34m\u001b[0m\u001b[0m\n",
      "\u001b[0;32m~/miniconda3/lib/python3.6/site-packages/matplotlib/backends/backend_pdf.py\u001b[0m in \u001b[0;36mprint_pdf\u001b[0;34m(self, filename, **kwargs)\u001b[0m\n\u001b[1;32m   2576\u001b[0m             \u001b[0mfile\u001b[0m \u001b[0;34m=\u001b[0m \u001b[0mfilename\u001b[0m\u001b[0;34m.\u001b[0m\u001b[0m_file\u001b[0m\u001b[0;34m\u001b[0m\u001b[0;34m\u001b[0m\u001b[0m\n\u001b[1;32m   2577\u001b[0m         \u001b[0;32melse\u001b[0m\u001b[0;34m:\u001b[0m\u001b[0;34m\u001b[0m\u001b[0;34m\u001b[0m\u001b[0m\n\u001b[0;32m-> 2578\u001b[0;31m             \u001b[0mfile\u001b[0m \u001b[0;34m=\u001b[0m \u001b[0mPdfFile\u001b[0m\u001b[0;34m(\u001b[0m\u001b[0mfilename\u001b[0m\u001b[0;34m,\u001b[0m \u001b[0mmetadata\u001b[0m\u001b[0;34m=\u001b[0m\u001b[0mkwargs\u001b[0m\u001b[0;34m.\u001b[0m\u001b[0mpop\u001b[0m\u001b[0;34m(\u001b[0m\u001b[0;34m\"metadata\"\u001b[0m\u001b[0;34m,\u001b[0m \u001b[0;32mNone\u001b[0m\u001b[0;34m)\u001b[0m\u001b[0;34m)\u001b[0m\u001b[0;34m\u001b[0m\u001b[0;34m\u001b[0m\u001b[0m\n\u001b[0m\u001b[1;32m   2579\u001b[0m         \u001b[0;32mtry\u001b[0m\u001b[0;34m:\u001b[0m\u001b[0;34m\u001b[0m\u001b[0;34m\u001b[0m\u001b[0m\n\u001b[1;32m   2580\u001b[0m             \u001b[0mfile\u001b[0m\u001b[0;34m.\u001b[0m\u001b[0mnewPage\u001b[0m\u001b[0;34m(\u001b[0m\u001b[0mwidth\u001b[0m\u001b[0;34m,\u001b[0m \u001b[0mheight\u001b[0m\u001b[0;34m)\u001b[0m\u001b[0;34m\u001b[0m\u001b[0;34m\u001b[0m\u001b[0m\n",
      "\u001b[0;32m~/miniconda3/lib/python3.6/site-packages/matplotlib/backends/backend_pdf.py\u001b[0m in \u001b[0;36m__init__\u001b[0;34m(self, filename, metadata)\u001b[0m\n\u001b[1;32m    436\u001b[0m         \u001b[0mself\u001b[0m\u001b[0;34m.\u001b[0m\u001b[0moriginal_file_like\u001b[0m \u001b[0;34m=\u001b[0m \u001b[0;32mNone\u001b[0m\u001b[0;34m\u001b[0m\u001b[0;34m\u001b[0m\u001b[0m\n\u001b[1;32m    437\u001b[0m         \u001b[0mself\u001b[0m\u001b[0;34m.\u001b[0m\u001b[0mtell_base\u001b[0m \u001b[0;34m=\u001b[0m \u001b[0;36m0\u001b[0m\u001b[0;34m\u001b[0m\u001b[0;34m\u001b[0m\u001b[0m\n\u001b[0;32m--> 438\u001b[0;31m         \u001b[0mfh\u001b[0m\u001b[0;34m,\u001b[0m \u001b[0mopened\u001b[0m \u001b[0;34m=\u001b[0m \u001b[0mcbook\u001b[0m\u001b[0;34m.\u001b[0m\u001b[0mto_filehandle\u001b[0m\u001b[0;34m(\u001b[0m\u001b[0mfilename\u001b[0m\u001b[0;34m,\u001b[0m \u001b[0;34m\"wb\"\u001b[0m\u001b[0;34m,\u001b[0m \u001b[0mreturn_opened\u001b[0m\u001b[0;34m=\u001b[0m\u001b[0;32mTrue\u001b[0m\u001b[0;34m)\u001b[0m\u001b[0;34m\u001b[0m\u001b[0;34m\u001b[0m\u001b[0m\n\u001b[0m\u001b[1;32m    439\u001b[0m         \u001b[0;32mif\u001b[0m \u001b[0;32mnot\u001b[0m \u001b[0mopened\u001b[0m\u001b[0;34m:\u001b[0m\u001b[0;34m\u001b[0m\u001b[0;34m\u001b[0m\u001b[0m\n\u001b[1;32m    440\u001b[0m             \u001b[0;32mtry\u001b[0m\u001b[0;34m:\u001b[0m\u001b[0;34m\u001b[0m\u001b[0;34m\u001b[0m\u001b[0m\n",
      "\u001b[0;32m~/miniconda3/lib/python3.6/site-packages/matplotlib/cbook/__init__.py\u001b[0m in \u001b[0;36mto_filehandle\u001b[0;34m(fname, flag, return_opened, encoding)\u001b[0m\n\u001b[1;32m    609\u001b[0m             \u001b[0mfh\u001b[0m \u001b[0;34m=\u001b[0m \u001b[0mbz2\u001b[0m\u001b[0;34m.\u001b[0m\u001b[0mBZ2File\u001b[0m\u001b[0;34m(\u001b[0m\u001b[0mfname\u001b[0m\u001b[0;34m,\u001b[0m \u001b[0mflag\u001b[0m\u001b[0;34m)\u001b[0m\u001b[0;34m\u001b[0m\u001b[0;34m\u001b[0m\u001b[0m\n\u001b[1;32m    610\u001b[0m         \u001b[0;32melse\u001b[0m\u001b[0;34m:\u001b[0m\u001b[0;34m\u001b[0m\u001b[0;34m\u001b[0m\u001b[0m\n\u001b[0;32m--> 611\u001b[0;31m             \u001b[0mfh\u001b[0m \u001b[0;34m=\u001b[0m \u001b[0mio\u001b[0m\u001b[0;34m.\u001b[0m\u001b[0mopen\u001b[0m\u001b[0;34m(\u001b[0m\u001b[0mfname\u001b[0m\u001b[0;34m,\u001b[0m \u001b[0mflag\u001b[0m\u001b[0;34m,\u001b[0m \u001b[0mencoding\u001b[0m\u001b[0;34m=\u001b[0m\u001b[0mencoding\u001b[0m\u001b[0;34m)\u001b[0m\u001b[0;34m\u001b[0m\u001b[0;34m\u001b[0m\u001b[0m\n\u001b[0m\u001b[1;32m    612\u001b[0m         \u001b[0mopened\u001b[0m \u001b[0;34m=\u001b[0m \u001b[0;32mTrue\u001b[0m\u001b[0;34m\u001b[0m\u001b[0;34m\u001b[0m\u001b[0m\n\u001b[1;32m    613\u001b[0m     \u001b[0;32melif\u001b[0m \u001b[0mhasattr\u001b[0m\u001b[0;34m(\u001b[0m\u001b[0mfname\u001b[0m\u001b[0;34m,\u001b[0m \u001b[0;34m'seek'\u001b[0m\u001b[0;34m)\u001b[0m\u001b[0;34m:\u001b[0m\u001b[0;34m\u001b[0m\u001b[0;34m\u001b[0m\u001b[0m\n",
      "\u001b[0;31mFileNotFoundError\u001b[0m: [Errno 2] No such file or directory: '/Users/jordan/Desktop/hughes_rnaseq_2019/plots/de/conA_6v0.pdf'"
     ]
    },
    {
     "data": {
      "text/plain": [
       "<Figure size 432x288 with 0 Axes>"
      ]
     },
     "metadata": {},
     "output_type": "display_data"
    },
    {
     "data": {
      "image/png": "[encoded data removed]",
      "text/plain": [
       "<Figure size 360x216 with 1 Axes>"
      ]
     },
     "metadata": {},
     "output_type": "display_data"
    }
   ],
   "source": [
    "print('6v0')\n",
    "xp.volcano(df_rpkm, info, 'Concanamycin_A_time6', 'Concanamycin_A_time0', \n",
    "           alpha=.1, y_threshold=2, x_threshold=[-1,1], \n",
    "           figsize=(5,3), dpi=1200,\n",
    "           save_fig=str(__path__ + 'plots/volcano_plots/conA_6v0.pdf'),\n",
    "           save_threshold_hits=__path__ + 'plots/go/data/conA_6v0_threshold.csv')\n",
    "print('3v0')\n",
    "xp.volcano(df_rpkm, info, 'Concanamycin_A_time3', 'Concanamycin_A_time0', \n",
    "           alpha=.1, y_threshold=2, x_threshold=[-1,1],\n",
    "           figsize=(5,3), dpi=1200,\n",
    "           save_fig=str(__path__ + 'plots/volcano_plots/conA_3v0.pdf'),\n",
    "           save_threshold_hits=__path__ + 'plots/go/data/conA_3v0_threshold.csv')\n",
    "print('1v0')\n",
    "xp.volcano(df_rpkm, info, 'Concanamycin_A_time1', 'Concanamycin_A_time0', \n",
    "           alpha=.1, y_threshold=2, x_threshold=[-1,1],\n",
    "           figsize=(5,3), dpi=1200,\n",
    "           save_fig=str(__path__ + 'plots/volcano_plots/conA_1v0.pdf'),\n",
    "           save_threshold_hits=__path__ + 'plots/go/data/conA_1v0_threshold.csv')"
   ]
  },
  {
   "cell_type": "markdown",
   "metadata": {},
   "source": [
    "<b><u>Plot enriched GO term genes enriched in analysis</u></b>   \n",
    "Took up- and down-regulated lists from each threshold list and ran on geneontology.org   \n",
    "Test Type: Fisher's Exact    \n",
    "Correction: Calculate False Discovery Rate   \n",
    "Only hits with a fold change over expected greater than 1 are displayed in the plots    \n",
    "GO Analysis was performed 18 Apr 2019, using PANTHER Overrepresentation Test v14.1 and Gene Ontology Version 2019-04-17\n",
    "   \n",
    "<b><u>Citations</u></b>:   \n",
    "Ashburner et al. Gene ontology: tool for the unification of biology. Nat Genet. May 2000;25(1):25-9.   \n",
    "The Gene Ontology Consortium. The Gene Ontology Resource: 20 years and still GOing strong. Nucleic Acids Res. Jan 2019;47(D1):D330-D338.    \n",
    "Mi H, Huang X, Muruganujan A, Tang H, Mills C, Kang D, Thomas PD. PANTHER version 11: expanded annotation data from Gene Ontology and Reactome pathways, and data analysis tool enhancements. Nucleic Acids Res. Jan 2017;45(D1):D183-D189.   \n",
    "   \n",
    "<b>Data from GO term analysis can be found @ https://github.com/j-berg/hughes_rnaseq_2019/tree/master/go_final</b>"
   ]
  },
  {
   "cell_type": "markdown",
   "metadata": {},
   "source": [
    "## Figure 4C,D,E: Heatmap Analysis of Curated Amino Acid Gene Expression"
   ]
  },
  {
   "cell_type": "code",
   "execution_count": null,
   "metadata": {},
   "outputs": [],
   "source": [
    "#Get genes of interest for heatmap\n",
    "genes = pd.read_csv(__path__ + 'metadata/aa_gene_list.csv')\n",
    "genes_info = genes[['gene_id','function']]\n",
    "genes_info.columns = [0,1]\n",
    "\n",
    "#Get common names for conversion\n",
    "genes_common = genes[['gene_name','function']]\n",
    "genes_common.columns = [0,1]\n",
    "\n",
    "#Get dataframe of gene cohort of interest\n",
    "df_plot = df_conA_scaled.loc[genes_info[0].tolist()]\n",
    "print('Size of gene cohort data matrix:' + str(df_plot.shape))\n",
    "\n",
    "#Rename gene ids to common names\n",
    "labels = pd.Series(genes['gene_name'].values,index=genes['gene_id']).to_dict()\n",
    "df_plot['name'] = df_plot.index.map(labels.get)\n",
    "df_plot = df_plot.set_index('name')\n",
    "del df_plot.index.name\n",
    "\n",
    "#Set dictionary of gene color legend\n",
    "gene_colors = {'Amino acid anabolism':'#1b9e77', 'Amino acid catabolism':'#d95f02', 'Aft1 regulon':'#7570b3'}\n",
    "\n",
    "#Plot heatmap\n",
    "xp.heatmap(df_plot, info_ch, sample_palette=colors, gene_palette=gene_colors,\n",
    "    gene_info=genes_common, figsize=(2,15),\n",
    "    row_cluster=False, col_cluster=False, font_scale=.7,\n",
    "          cbar_kws={'label': 'z-score'})\n",
    "\n",
    "#Format legends\n",
    "import matplotlib\n",
    "import matplotlib.pyplot\n",
    "\n",
    "f = lambda m,c: plt.plot([],[],marker='o', color=c, ls=\"none\")[0]\n",
    "handles = [f(\"s\", list(gene_colors.values())[i]) for i in range(len(list(gene_colors.values())))]\n",
    "first_legend = plt.legend(handles, list(gene_colors.keys()), bbox_to_anchor=(15, 0.25), loc=2, borderaxespad=0., title='Gene Clusters')\n",
    "\n",
    "# Add the legend manually to the current Axes.\n",
    "ax = plt.gca().add_artist(first_legend)\n",
    "\n",
    "g = lambda m,c: plt.plot([],[],marker='o', color=c, ls=\"none\")[0]\n",
    "handles_g = [f(\"s\", list(colors.values())[i]) for i in range(len(list(colors.values())))]\n",
    "plt.legend(handles_g, list(colors.keys()), bbox_to_anchor=(15, .7), loc=2, borderaxespad=0., title='Samples')\n",
    "\n",
    "#Save and show figure\n",
    "plt.savefig(__path__ + 'plots/aa_gene_list_heatmap.pdf',dpi=1800,bbox_inches='tight')\n",
    "plt.show()"
   ]
  },
  {
   "cell_type": "markdown",
   "metadata": {},
   "source": [
    "## Figure 6A: Heatmap Analysis of Curate Oxidative Stress Gene Expression"
   ]
  },
  {
   "cell_type": "code",
   "execution_count": null,
   "metadata": {},
   "outputs": [],
   "source": [
    "#Get genes of interest for heatmap\n",
    "genes = pd.read_csv(__path__ + 'metadata/oxidative_stress_genes.csv')\n",
    "genes_dict = genes[['ORF','Gene name']]\n",
    "genes_dict.columns = [0,1]\n",
    "\n",
    "#Get dataframe of gene cohort of interest\n",
    "df_plot = df_conA_scaled.loc[genes_dict[0].tolist()]\n",
    "print('Size of gene cohort data matrix:' + str(df_plot.shape))\n",
    "\n",
    "#Rename gene ids to common names\n",
    "labels = pd.Series(genes['Gene name'].values,index=genes['ORF']).to_dict()\n",
    "df_plot['name'] = df_plot.index.map(labels.get)\n",
    "df_plot = df_plot.set_index('name')\n",
    "del df_plot.index.name\n",
    "\n",
    "#Plot heatmap\n",
    "xp.heatmap(df_plot, info_ch, sample_palette=colors,\n",
    "    figsize=(2,5),\n",
    "    row_cluster=False, col_cluster=False, font_scale=.7,\n",
    "          cbar_kws={'label': 'z-score'})\n",
    "\n",
    "#Save and show figure\n",
    "plt.savefig(__path__ + 'plots/oxidative_stress_heatmap_final.pdf',dpi=1800,bbox_inches='tight')\n",
    "plt.show()"
   ]
  }
 ],
 "metadata": {
  "kernelspec": {
   "display_name": "Python 3",
   "language": "python",
   "name": "python3"
  },
  "language_info": {
   "codemirror_mode": {
    "name": "ipython",
    "version": 3
   },
   "file_extension": ".py",
   "mimetype": "text/x-python",
   "name": "python",
   "nbconvert_exporter": "python",
   "pygments_lexer": "ipython3",
   "version": "3.6.7"
  }
 },
 "nbformat": 4,
 "nbformat_minor": 2
}
